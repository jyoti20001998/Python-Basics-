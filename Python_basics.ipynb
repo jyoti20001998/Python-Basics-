{
  "nbformat": 4,
  "nbformat_minor": 0,
  "metadata": {
    "colab": {
      "provenance": []
    },
    "kernelspec": {
      "name": "python3",
      "display_name": "Python 3"
    },
    "language_info": {
      "name": "python"
    }
  },
  "cells": [
    {
      "cell_type": "markdown",
      "source": [
        "## Python basics"
      ],
      "metadata": {
        "id": "RDBfh3d0KO7-"
      }
    },
    {
      "cell_type": "code",
      "execution_count": null,
      "metadata": {
        "id": "N1iIsBsiKJSk"
      },
      "outputs": [],
      "source": [
        "1. What is python, and Why is it popular?\n",
        "   -> Python is a programming language that is easy to understand and write, making it a popular choice among developers and programmers.It has\n",
        "      introduce by Guido van Rossum (1980). It is compatible with various programming paradigms, such as procedural, object-oriented, and\n",
        "      functional programming. Python has a large and active community of developers, an extensive standard library and third-party packages for\n",
        "      various domains.\n",
        "\n",
        "2. What is an interpreter in python?\n",
        "   -> A Python interpreter is a computer program that reads and executes Python code line by line. It is a computer program that converts each high-level\n",
        "      program statement into machine code. An interpreter translates the command that you write out into code that the computer can understand.\n",
        "\n",
        "3. What are pre-defined keywords in pyhton?\n",
        "   -> This are pre-defined words that hold a special meaning and have specific purpose in python programming.You can't use a keyword anywhere else.\n",
        "      Python Identifiers are the different values that a programmer can use to define various variables, integers, functions, and classes.\n",
        "       To get Python keywords list:\n",
        "       Enter help('keywords')\n",
        "\n",
        "4. Can keywords be used as variable names?\n",
        "   -> No, keywords cannot be used as variable names because Keywords define the structure and syntax rules of a programming language and are used\n",
        "      by the interpreter to recognize the program's structure.\n",
        "\n",
        "5. What is mutability in Python?\n",
        "   -> Mutability means objects/container whose state or vale can be changed after they are created are called mutability.\n",
        "\n",
        "6. Why are lists mutable, but tuples are immutable?\n",
        "   -> Because their contents cannot be changed after creation, while lists are mutable and can be modified.tuples are more memory-efficient\n",
        "      compared to lists. Tuples can't be changed after they're created, but lists can be modified.\n",
        "\n",
        "7. What is the difference between \"==\" and \"is\" operators in python?\n",
        "   -> The main difference between the \"==\" and \"is\" operators in Python is that \"==\" compares the equality of objects, while \"is\" compares the identity\n",
        "      of objects.\n",
        "\n",
        "8. What are logical operators in Python?\n",
        "   -> Logical operators in Python are keywords that evaluate conditions in a program to return a Boolean value. They are used in conditional statements\n",
        "      and expressions to create complex decision-making processes.\n",
        "         Types of logical operators:\n",
        "             * AND\n",
        "             * OR\n",
        "             * NOT\n",
        "\n",
        "9. What is type casting in Python?\n",
        "   -> We also called as Type Conversion and the process of changing the data type of a value/object is called Type Casting.Type casting is important\n",
        "      because it allows for flexible operations and data manipulation within a program.\n",
        "\n",
        "10. What is the difference implicit and explicit Type casting?\n",
        "    -> Implicit Type casting:\n",
        "              when a programming language automatically converts one data type to another.\n",
        "       Explicit Type casting:\n",
        "              when a programmer manually converts a value from one data type to another.\n",
        "\n",
        "11. What is the purpose of conditional statements in Python?\n",
        "    -> The purpose of conditional statements in Python is to control the flow of a program by making decisions based on certain conditions.\n",
        "       Conditional statements can help make code more efficient and easier to read.\n",
        "\n",
        "12. How does the elif statement work?\n",
        "    -> In Python, elif is short for \"else if\" and is used when the first if statement isn't true, but you want to check for another condition.\n",
        "       if statements pair up with elif and else statements to perform a series of checks.\n",
        "\n",
        "13. What is the difference between for and while loops?\n",
        "    -> For loop:\n",
        "          a for loop is used when you know how many times to repeat a block of code.\n",
        "    -> While loop:\n",
        "          It repeatedly executed a block of code until a condition is met.\n",
        "\n",
        "14. Describe a scenario where a while loop is more suitable than a for loop?\n",
        "    -> In contrast to a 'for' loop, which is generally used when the number of iterations is known beforehand, a 'while' loop is\n",
        "       ideal for situations where the number of iterations is not predetermined and depends on some dynamic condition."
      ]
    },
    {
      "cell_type": "markdown",
      "source": [],
      "metadata": {
        "id": "D_JZaEZEKwB9"
      }
    },
    {
      "cell_type": "markdown",
      "source": [
        "Practicals"
      ],
      "metadata": {
        "id": "xuevE5h3KzRb"
      }
    },
    {
      "cell_type": "code",
      "source": [
        "#1. Write a python program to print \"HELLO, WORLD!\"\n",
        "\n",
        "print(\"Hello, World!\")"
      ],
      "metadata": {
        "colab": {
          "base_uri": "https://localhost:8080/"
        },
        "id": "e_yAdazvK6E_",
        "outputId": "a7e0a1fc-9138-43a4-f6a7-63f2dd5a340e"
      },
      "execution_count": null,
      "outputs": [
        {
          "output_type": "stream",
          "name": "stdout",
          "text": [
            "Hello, World!\n"
          ]
        }
      ]
    },
    {
      "cell_type": "code",
      "source": [
        "#2. Write a python program that displays your name and age?\n",
        "\n",
        "age = input(\"Enter age: \")\n",
        "name = input(\"Enter name: \")\n",
        "print(\"My name is\",name,\"and my age is\",age)"
      ],
      "metadata": {
        "colab": {
          "base_uri": "https://localhost:8080/"
        },
        "id": "P9o3bBnkLI8D",
        "outputId": "080ab480-8166-4555-ab05-957b7ec52c29"
      },
      "execution_count": null,
      "outputs": [
        {
          "output_type": "stream",
          "name": "stdout",
          "text": [
            "Enter age: 24\n",
            "Enter name: jyoti\n",
            "My name is jyoti and my age is 24\n"
          ]
        }
      ]
    },
    {
      "cell_type": "code",
      "source": [
        "#3. Write code to print all the pre-defined keywords in python using the keyword library.\n",
        "\n",
        "help(\"keywords\")\n"
      ],
      "metadata": {
        "colab": {
          "base_uri": "https://localhost:8080/"
        },
        "id": "YrLaf0RnLSK9",
        "outputId": "ed49d3b7-577b-4fd0-f22f-bfdeb1340d42"
      },
      "execution_count": null,
      "outputs": [
        {
          "output_type": "stream",
          "name": "stdout",
          "text": [
            "\n",
            "Here is a list of the Python keywords.  Enter any keyword to get more help.\n",
            "\n",
            "False               class               from                or\n",
            "None                continue            global              pass\n",
            "True                def                 if                  raise\n",
            "and                 del                 import              return\n",
            "as                  elif                in                  try\n",
            "assert              else                is                  while\n",
            "async               except              lambda              with\n",
            "await               finally             nonlocal            yield\n",
            "break               for                 not                 \n",
            "\n"
          ]
        }
      ]
    },
    {
      "cell_type": "code",
      "source": [
        "#4. Write a program that checks if a given word is a python keyword.\n",
        "\n",
        "import keyword\n",
        "s = 'for'\n",
        "\n",
        "# Check if it's a Python keyword\n",
        "if keyword.iskeyword(s):\n",
        "    print(f\"'{s}' is a Python keyword.\")\n",
        "else:\n",
        "    print(f\"'{s}' is not a Python keyword.\")"
      ],
      "metadata": {
        "colab": {
          "base_uri": "https://localhost:8080/"
        },
        "id": "F1f1zn_uLloQ",
        "outputId": "fa2bc553-5231-4615-cf3a-82a366a6f74d"
      },
      "execution_count": null,
      "outputs": [
        {
          "output_type": "stream",
          "name": "stdout",
          "text": [
            "'for' is a Python keyword.\n"
          ]
        }
      ]
    },
    {
      "cell_type": "code",
      "source": [
        "#5. Create a list and tuple in python, and demonstrate how attempting to change an element works differently for each.\n",
        "\n",
        "a = [(1, 'apple'), (2, 'banana'), (3, 'cherry')]\n",
        "print(a)"
      ],
      "metadata": {
        "colab": {
          "base_uri": "https://localhost:8080/"
        },
        "id": "zaAPEINILzK_",
        "outputId": "81df9d60-c712-4bcf-f68c-f06c2b2ca3f9"
      },
      "execution_count": null,
      "outputs": [
        {
          "output_type": "stream",
          "name": "stdout",
          "text": [
            "[(1, 'apple'), (2, 'banana'), (3, 'cherry')]\n"
          ]
        }
      ]
    },
    {
      "cell_type": "code",
      "source": [
        "#6. Write a function to demonstrate the behaviour of mutable and immutable arguments.\n",
        "    -> In Python mutable arguments can be changed within a function, while immutable arguments cannot. These differences affect how\n",
        "    variables behave and how memory is managed.\n",
        "\n",
        "       Mutable arguments\n",
        "         - Can be changed after creation\n",
        "         - Can be added to, removed from, or modified\n",
        "         - Store a copy of their contents when changed\n",
        "         - Are more memory-intensive than immutable arguments\n",
        "         - Can be used to create adaptable and effective adjustments\n",
        "         - Can be used in lists, dictionaries, and sets.\n",
        "\n",
        "       Immutable arguments\n",
        "         - Cannot be changed after creation\n",
        "         - Produce a new object when changed\n",
        "         - Are less prone to errors than mutable arguments\n",
        "         - Are regarded as safer\n",
        "         - Can be used to provide data integrity\n",
        "         - Can be used in strings, tuples, and numbers.\n"
      ],
      "metadata": {
        "id": "9CNd3IKYL8Om"
      },
      "execution_count": null,
      "outputs": []
    },
    {
      "cell_type": "code",
      "source": [
        "#7.Write a function to demonstrate the behaviour of mutable and immutable arguments.\n",
        "   -> -> In Python mutable arguments can be changed within a function, while immutable arguments cannot. These differences affect how\n",
        "    variables behave and how memory is managed.\n",
        "\n",
        "       Mutable arguments\n",
        "         - Can be changed after creation\n",
        "         - Can be added to, removed from, or modified\n",
        "         - Store a copy of their contents when changed\n",
        "         - Are more memory-intensive than immutable arguments\n",
        "         - Can be used to create adaptable and effective adjustments\n",
        "         - Can be used in lists, dictionaries, and sets.\n",
        "\n",
        "       Immutable arguments\n",
        "         - Cannot be changed after creation\n",
        "         - Produce a new object when changed\n",
        "         - Are less prone to errors than mutable arguments\n",
        "         - Are regarded as safer\n",
        "         - Can be used to provide data integrity\n",
        "         - Can be used in strings, tuples, and numbers.\n",
        "\n",
        "\n"
      ],
      "metadata": {
        "id": "JmolGQyDMSGk"
      },
      "execution_count": null,
      "outputs": []
    },
    {
      "cell_type": "code",
      "source": [
        "#8. Write a program to demonstrate the use of logical operators.\n",
        "\n",
        "a, b, c = True, False, True\n",
        "\n",
        "# AND: Both conditions must be True\n",
        "if a and c:\n",
        "    print(\"Both a and c are True (AND condition).\")\n",
        "\n",
        "# OR: At least one condition must be True\n",
        "if b or c:\n",
        "    print(\"Either b or c is True (OR condition).\")\n",
        "\n",
        "# NOT: Reverses the condition\n",
        "if not b:\n",
        "    print(\"b is False (NOT condition).\")\n"
      ],
      "metadata": {
        "colab": {
          "base_uri": "https://localhost:8080/"
        },
        "id": "JlEDIBREMZ8Q",
        "outputId": "6d1f0c63-ba1c-4cff-a47a-2fdefdf955c7"
      },
      "execution_count": null,
      "outputs": [
        {
          "output_type": "stream",
          "name": "stdout",
          "text": [
            "Both a and c are True (AND condition).\n",
            "Either b or c is True (OR condition).\n",
            "b is False (NOT condition).\n"
          ]
        }
      ]
    },
    {
      "cell_type": "code",
      "source": [
        "#9. Write a python program to convert user input from string to integer, float and boolean types.\n",
        "\n",
        "#string to integer\n",
        "a = \"2\"\n",
        "type(a)\n",
        "\n",
        "a = int(a)\n",
        "type(a)\n",
        "\n",
        "\n",
        "#string to float\n",
        "b = \"5\"\n",
        "type(b)\n",
        "\n",
        "b = float(b)\n",
        "type(b)\n",
        "\n",
        "\n",
        "#string to boolean\n",
        "c = \"true\"\n",
        "type(c)\n",
        "\n",
        "c = bool(c)\n",
        "type(c)\n",
        "\n",
        "print(type(a),type(b),type(c))"
      ],
      "metadata": {
        "colab": {
          "base_uri": "https://localhost:8080/"
        },
        "id": "4KcTaRiRMmGT",
        "outputId": "04eef28f-8ed7-4dd3-bf69-5cc483134bb5"
      },
      "execution_count": null,
      "outputs": [
        {
          "output_type": "stream",
          "name": "stdout",
          "text": [
            "<class 'int'> <class 'float'> <class 'bool'>\n"
          ]
        }
      ]
    },
    {
      "cell_type": "code",
      "source": [
        "#10. Write code to demonstrate type casting with list elements.\n",
        "\n",
        "#string elements to integer elements\n",
        "str_list = [\"1\", \"2\", \"3\", \"4\"]\n",
        "int_list = list(map(int, str_list))\n",
        "\n",
        "print(int_list)\n",
        "\n",
        "\n",
        "#integer elements to strings\n",
        "int_list = [1, 2, 3, 4]\n",
        "str_list = list(map(str, int_list))\n",
        "\n",
        "print(str_list)\n",
        "\n",
        "\n",
        "#Converting all elements to float\n",
        "mixed_list = [\"1\", 2, \"3.0\"]\n",
        "float_list = list(map(float, mixed_list))\n",
        "\n",
        "print(float_list)\n",
        "\n"
      ],
      "metadata": {
        "colab": {
          "base_uri": "https://localhost:8080/"
        },
        "id": "r6dny6wVMwte",
        "outputId": "bec9e6e0-553b-4762-86ab-87b07d12f085"
      },
      "execution_count": null,
      "outputs": [
        {
          "output_type": "stream",
          "name": "stdout",
          "text": [
            "[1, 2, 3, 4]\n",
            "['1', '2', '3', '4']\n",
            "[1.0, 2.0, 3.0]\n"
          ]
        }
      ]
    },
    {
      "cell_type": "code",
      "source": [
        "#11. Write a program that checks if a number is positive, negative or zero.\n",
        "\n",
        "#positive\n",
        "num = float(input(\"Enter a number: \"))\n",
        "if num > 0:\n",
        "   print(\"Positive number\")\n",
        "elif num == 0:\n",
        "   print(\"Zero\")\n",
        "else:\n",
        "   print(\"Negative number\")\n",
        "\n",
        "\n",
        "#negative\n",
        "num = float(input(\"Enter a number: \"))\n",
        "if num > 0:\n",
        "   print(\"Positive number\")\n",
        "elif num == 0:\n",
        "   print(\"Zero\")\n",
        "else:\n",
        "   print(\"Negative number\")\n",
        "\n",
        "\n",
        "#zero\n",
        "num = float(input(\"Enter a number: \"))\n",
        "if num > 0:\n",
        "   print(\"Positive number\")\n",
        "elif num == 0:\n",
        "   print(\"Zero\")\n",
        "else:\n",
        "   print(\"Negative number\")\n",
        "\n"
      ],
      "metadata": {
        "colab": {
          "base_uri": "https://localhost:8080/"
        },
        "id": "CsZFgT0vM4it",
        "outputId": "6cf18af0-88bf-4641-89d1-2dafd6f09196"
      },
      "execution_count": null,
      "outputs": [
        {
          "output_type": "stream",
          "name": "stdout",
          "text": [
            "Enter a number: 5\n",
            "Positive number\n",
            "Enter a number: -4\n",
            "Negative number\n",
            "Enter a number: 0\n",
            "Zero\n"
          ]
        }
      ]
    },
    {
      "cell_type": "code",
      "source": [
        "#12. Write a for loop to print numbers from 1 to 10.\n",
        "\n",
        "\n",
        "for i in range(1, 11):\n",
        "    print(i)"
      ],
      "metadata": {
        "colab": {
          "base_uri": "https://localhost:8080/"
        },
        "id": "lqxCc4-KNEA9",
        "outputId": "df10f1a1-e3ed-4b81-d339-95810214d217"
      },
      "execution_count": null,
      "outputs": [
        {
          "output_type": "stream",
          "name": "stdout",
          "text": [
            "1\n",
            "2\n",
            "3\n",
            "4\n",
            "5\n",
            "6\n",
            "7\n",
            "8\n",
            "9\n",
            "10\n"
          ]
        }
      ]
    },
    {
      "cell_type": "code",
      "source": [
        "#13. Write a python program to find the sum of all even numbers between 1 and 50.\n",
        "\n",
        "for i in range(50):\n",
        "  if i%2!=0:\n",
        "    continue\n",
        "  print(i)"
      ],
      "metadata": {
        "colab": {
          "base_uri": "https://localhost:8080/"
        },
        "id": "hkZG0WRkNX-c",
        "outputId": "9178fb3c-076d-49bd-96a3-acb10a689312"
      },
      "execution_count": null,
      "outputs": [
        {
          "output_type": "stream",
          "name": "stdout",
          "text": [
            "0\n",
            "2\n",
            "4\n",
            "6\n",
            "8\n",
            "10\n",
            "12\n",
            "14\n",
            "16\n",
            "18\n",
            "20\n",
            "22\n",
            "24\n",
            "26\n",
            "28\n",
            "30\n",
            "32\n",
            "34\n",
            "36\n",
            "38\n",
            "40\n",
            "42\n",
            "44\n",
            "46\n",
            "48\n"
          ]
        }
      ]
    },
    {
      "cell_type": "code",
      "source": [
        "#14. Write a program to reverse a string using a while loop.\n",
        "\n",
        "s = \"suresh\"\n",
        "rev = s[::-1]\n",
        "print(rev)"
      ],
      "metadata": {
        "colab": {
          "base_uri": "https://localhost:8080/"
        },
        "id": "FGLJj25oNdzo",
        "outputId": "96267a6e-60bc-4af3-e420-2d6119c3e61a"
      },
      "execution_count": null,
      "outputs": [
        {
          "output_type": "stream",
          "name": "stdout",
          "text": [
            "hserus\n"
          ]
        }
      ]
    },
    {
      "cell_type": "code",
      "source": [
        "#15. write a python program to calculate the factorial of a number provided by the user using a while loop.\n",
        "\n",
        "n = int(input(\"Enter any number: \"))\n",
        "f = 1\n",
        "while n >= 1:\n",
        "    f *= n\n",
        "    n -= 1\n",
        "# print output\n",
        "print(\"Factorial is\", f)\n"
      ],
      "metadata": {
        "colab": {
          "base_uri": "https://localhost:8080/"
        },
        "id": "DPuq1h4PNqpS",
        "outputId": "1dec8918-3eea-47ca-cad1-c8b4d792cb0e"
      },
      "execution_count": null,
      "outputs": [
        {
          "output_type": "stream",
          "name": "stdout",
          "text": [
            "Enter any number: 10\n",
            "Factorial is 3628800\n"
          ]
        }
      ]
    },
    {
      "cell_type": "code",
      "source": [],
      "metadata": {
        "id": "Gdppih9bNvdT"
      },
      "execution_count": null,
      "outputs": []
    }
  ]
}